{
 "cells": [
  {
   "cell_type": "code",
   "execution_count": 48,
   "metadata": {},
   "outputs": [
    {
     "name": "stdout",
     "output_type": "stream",
     "text": [
      "torch.Size([2, 6])\n"
     ]
    }
   ],
   "source": [
    "import torch\n",
    "import torch.nn as nn\n",
    "import torch.optim as optim\n",
    "import torch.nn.functional as F\n",
    "from transformers import T5Config, T5ForConditionalGeneration\n",
    "\n",
    "class Model(nn.Module):\n",
    "    def __init__(self):\n",
    "        super(Model, self).__init__()\n",
    "        self.configuration = T5Config(vocab_size=200, pad_token_id=1, eos_token_id=0, decoder_start_token_id=2)\n",
    "        self.transformer = T5ForConditionalGeneration(self.configuration)\n",
    "\n",
    "    # def forward(self, input_ids, decode_ids):\n",
    "    #     output = self.transformer(input_ids=input_ids, decoder_input_ids=decode_ids)\n",
    "    #     return output\n",
    "    \n",
    "    def forward(self, input_ids, labels=None):\n",
    "        output = self.transformer(input_ids=input_ids, labels=labels)\n",
    "        return output\n",
    "    \n",
    "input_ids = torch.tensor([[10,1,2,3,4,0],[10,3,2,0,0,0]])\n",
    "decode_ids = torch.tensor([[10,5,3,4,2,2,1,2,3,4,1,24,5,12],[10,5,3,4,2,2,1,2,3,4,1,24,5,12]])\n",
    "print(test.shape)"
   ]
  },
  {
   "cell_type": "code",
   "execution_count": 49,
   "metadata": {},
   "outputs": [
    {
     "name": "stdout",
     "output_type": "stream",
     "text": [
      "odict_keys(['loss', 'logits', 'past_key_values', 'encoder_last_hidden_state'])\n"
     ]
    }
   ],
   "source": [
    "m = Model()\n",
    "\n",
    "out = m(input_ids, labels=decode_ids)\n",
    "\n",
    "print(out.keys())"
   ]
  },
  {
   "cell_type": "code",
   "execution_count": 55,
   "metadata": {},
   "outputs": [
    {
     "name": "stderr",
     "output_type": "stream",
     "text": [
      "/opt/conda/envs/sym/lib/python3.12/site-packages/transformers/generation/utils.py:1201: UserWarning: Using the model-agnostic default `max_length` (=20) to control the generation length. We recommend setting `max_new_tokens` to control the maximum length of the generation.\n",
      "  warnings.warn(\n"
     ]
    },
    {
     "name": "stdout",
     "output_type": "stream",
     "text": [
      "tensor([[2, 2, 2, 2, 2, 2, 2, 2, 2, 2, 2, 2, 2, 2, 2, 2, 2, 2, 2, 2],\n",
      "        [2, 2, 2, 2, 2, 2, 2, 2, 2, 2, 2, 2, 2, 2, 2, 2, 2, 2, 2, 2]])\n",
      "torch.Size([2, 6])\n",
      "torch.Size([2, 20])\n"
     ]
    }
   ],
   "source": [
    "a = m.transformer.generate(input_ids)\n",
    "print(a)\n",
    "print(input_ids.shape)\n",
    "print(a.shape)"
   ]
  },
  {
   "cell_type": "code",
   "execution_count": 50,
   "metadata": {},
   "outputs": [
    {
     "name": "stdout",
     "output_type": "stream",
     "text": [
      "tensor(6.1670, grad_fn=<NllLossBackward0>)\n",
      "torch.Size([2, 14, 200])\n",
      "torch.Size([2, 6, 512])\n",
      "tensor([[ 2, 10,  5,  3,  4,  2,  2,  1,  2,  3,  4,  1, 24,  5],\n",
      "        [ 2, 10,  5,  3,  4,  2,  2,  1,  2,  3,  4,  1, 24,  5]])\n"
     ]
    }
   ],
   "source": [
    "print(out.loss)\n",
    "print(out.logits.shape)\n",
    "print(out.encoder_last_hidden_state.shape)\n",
    "print(torch.argmax(out.logits, dim=2))"
   ]
  },
  {
   "cell_type": "code",
   "execution_count": 36,
   "metadata": {},
   "outputs": [
    {
     "name": "stdout",
     "output_type": "stream",
     "text": [
      "torch.Size([2, 2, 512])\n",
      "torch.Size([2, 6, 512])\n"
     ]
    }
   ],
   "source": [
    "print(out.last_hidden_state.shape)\n",
    "print(out.encoder_last_hidden_state.shape)"
   ]
  },
  {
   "cell_type": "code",
   "execution_count": 32,
   "metadata": {},
   "outputs": [
    {
     "name": "stdout",
     "output_type": "stream",
     "text": [
      "6\n",
      "4\n",
      "4\n",
      "4\n",
      "4\n",
      "4\n",
      "4\n",
      "torch.Size([2, 8, 1, 64])\n"
     ]
    }
   ],
   "source": [
    "print(len(out.past_key_values))\n",
    "print(len(out.past_key_values[0]))\n",
    "print(len(out.past_key_values[1]))\n",
    "print(len(out.past_key_values[2]))\n",
    "print(len(out.past_key_values[3]))\n",
    "print(len(out.past_key_values[4]))\n",
    "print(len(out.past_key_values[5]))\n",
    "\n",
    "print(out.past_key_values[0][0].shape)"
   ]
  },
  {
   "cell_type": "code",
   "execution_count": null,
   "metadata": {},
   "outputs": [],
   "source": []
  }
 ],
 "metadata": {
  "kernelspec": {
   "display_name": "sym",
   "language": "python",
   "name": "python3"
  },
  "language_info": {
   "codemirror_mode": {
    "name": "ipython",
    "version": 3
   },
   "file_extension": ".py",
   "mimetype": "text/x-python",
   "name": "python",
   "nbconvert_exporter": "python",
   "pygments_lexer": "ipython3",
   "version": "3.12.3"
  }
 },
 "nbformat": 4,
 "nbformat_minor": 2
}
