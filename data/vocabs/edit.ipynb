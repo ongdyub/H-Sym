{
 "cells": [
  {
   "cell_type": "code",
   "execution_count": 9,
   "metadata": {},
   "outputs": [],
   "source": [
    "import json\n",
    "\n",
    "# Specify the value to subtract from each key number\n",
    "subtract_value = 0  # Change this as needed\n",
    "\n",
    "# Load the JSON data from a file\n",
    "with open('./inst.json', 'r') as file:\n",
    "    vocab = json.load(file)\n",
    "\n",
    "# new_vocab = {int(index): value for index, value in enumerate(vocab.values())}\n",
    "\n",
    "# # Optionally, convert new_vocab back to JSON if needed\n",
    "\n",
    "# with open('updated_vocab.json', 'w') as file:\n",
    "#     json.dump(new_vocab, file, indent=4)\n",
    "\n",
    "new_vocab = {value: index for index, value in enumerate(vocab.values())}\n",
    "\n",
    "# Save the new dictionary to a JSON file\n",
    "with open('reversed_vocab.json', 'w') as file:\n",
    "    json.dump(new_vocab, file, indent=4)\n",
    "\n",
    "\n"
   ]
  },
  {
   "cell_type": "code",
   "execution_count": null,
   "metadata": {},
   "outputs": [],
   "source": []
  }
 ],
 "metadata": {
  "kernelspec": {
   "display_name": "sym",
   "language": "python",
   "name": "python3"
  },
  "language_info": {
   "codemirror_mode": {
    "name": "ipython",
    "version": 3
   },
   "file_extension": ".py",
   "mimetype": "text/x-python",
   "name": "python",
   "nbconvert_exporter": "python",
   "pygments_lexer": "ipython3",
   "version": "3.12.3"
  }
 },
 "nbformat": 4,
 "nbformat_minor": 2
}
