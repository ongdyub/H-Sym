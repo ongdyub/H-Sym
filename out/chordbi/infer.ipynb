{
 "cells": [
  {
   "cell_type": "code",
   "execution_count": null,
   "metadata": {},
   "outputs": [],
   "source": [
    "import torch\n",
    "import torch.nn as nn\n",
    "\n",
    "device = torch.device(\"cuda:7\" if torch.cuda.is_available() else \"cpu\")\n",
    "print(device)\n",
    "\n",
    "class ChordBiLSTM(nn.Module):\n",
    "    def __init__(self, vocab_size=140, embedding_dim=2048, hidden_dim=512, num_layers=5):\n",
    "        super(ChordBiLSTM, self).__init__()\n",
    "        self.embedding = nn.Embedding(vocab_size, embedding_dim)\n",
    "        self.lstm = nn.LSTM(embedding_dim, hidden_dim, num_layers, batch_first=True, bidirectional=True)\n",
    "        self.fc = nn.Linear(hidden_dim*2, vocab_size)\n",
    "\n",
    "    def forward(self, x):\n",
    "        embedded = self.embedding(x)\n",
    "        output, (hidden, cell) = self.lstm(embedded)\n",
    "        logits = self.fc(output)\n",
    "        return logits\n",
    "    \n",
    "model = ChordBiLSTM(vocab_size=140, embedding_dim=512, hidden_dim=256, num_layers=5).to(device)"
   ]
  }
 ],
 "metadata": {
  "kernelspec": {
   "display_name": "sym",
   "language": "python",
   "name": "python3"
  },
  "language_info": {
   "name": "python",
   "version": "3.12.3"
  }
 },
 "nbformat": 4,
 "nbformat_minor": 2
}
