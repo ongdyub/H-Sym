{
 "cells": [
  {
   "cell_type": "code",
   "execution_count": 7,
   "metadata": {},
   "outputs": [
    {
     "name": "stdout",
     "output_type": "stream",
     "text": [
      "cuda:0\n"
     ]
    },
    {
     "data": {
      "text/plain": [
       "ChordLSTM(\n",
       "  (embedding): Embedding(140, 512)\n",
       "  (lstm): LSTM(512, 512, num_layers=5, batch_first=True)\n",
       "  (fc): Linear(in_features=512, out_features=140, bias=True)\n",
       ")"
      ]
     },
     "execution_count": 7,
     "metadata": {},
     "output_type": "execute_result"
    }
   ],
   "source": [
    "import torch\n",
    "import torch.nn as nn\n",
    "\n",
    "device = torch.device(\"cuda:0\" if torch.cuda.is_available() else \"cpu\")\n",
    "print(device)\n",
    "\n",
    "class ChordLSTM(nn.Module):\n",
    "    def __init__(self, vocab_size=140, embedding_dim=2048, hidden_dim=512, num_layers=5):\n",
    "        super(ChordLSTM, self).__init__()\n",
    "        self.embedding = nn.Embedding(vocab_size, embedding_dim)\n",
    "        self.lstm = nn.LSTM(embedding_dim, hidden_dim, num_layers, batch_first=True)\n",
    "        self.fc = nn.Linear(hidden_dim, vocab_size)\n",
    "\n",
    "    def forward(self, x):\n",
    "        embedded = self.embedding(x)\n",
    "        output, (hidden, cell) = self.lstm(embedded)\n",
    "        logits = self.fc(output)\n",
    "        return logits\n",
    "    \n",
    "    def infer(self, input_ids, length=2048, train=False):\n",
    "        if len(input_ids.shape) == 1:\n",
    "            input_ids = input_ids.unsqueeze(0)\n",
    "        if len(input_ids.shape) > 2:\n",
    "            raise Exception\n",
    "        \n",
    "        if length > 2048:\n",
    "            print(\"Max Length is 2048. Change Length Auto to 2048\")\n",
    "            length = 2048\n",
    "        \n",
    "        with torch.no_grad():\n",
    "            for step in range(length):\n",
    "                output = model(input_ids)\n",
    "                output = torch.argmax(output, dim=2)\n",
    "\n",
    "                predict = output[:,-1].unsqueeze(1)\n",
    "                output_ids = torch.cat((input_ids, predict), dim=-1)\n",
    "\n",
    "                input_ids = output_ids\n",
    "                \n",
    "                if torch.all(predict.eq(0)):\n",
    "                    break\n",
    "                \n",
    "                if output_ids.shape[1] > 2048:\n",
    "                    break\n",
    "\n",
    "        return output_ids\n",
    "    \n",
    "model = ChordLSTM(vocab_size=140, embedding_dim=512, hidden_dim=512, num_layers=5).to(device)\n",
    "model.load_state_dict(torch.load('./model_25_0.002685.pt', map_location=device))\n",
    "model.eval()"
   ]
  },
  {
   "cell_type": "code",
   "execution_count": 11,
   "metadata": {},
   "outputs": [
    {
     "name": "stdout",
     "output_type": "stream",
     "text": [
      "tensor([135,  28,  28,  83,  84,  37,  37, 114, 114,  29,  29,  83,  84,  37,\n",
      "         37, 114, 114,  29,  59,  83,  83,  37,  37, 114, 114,  29,  29,  83,\n",
      "         83,  37], device='cuda:0')\n",
      "tensor([135,  28,  28,  83,  84,  37,  37, 114, 114,  29,  29,  83,  84,  37,\n",
      "         37, 114, 114,  29,  59,  83], device='cuda:0')\n",
      "tensor([[135,  28,  28,  83,  84,  37,  37, 114, 114,  29,  29,  83,  84,  37,\n",
      "          37, 114, 114,  29,  59,  83,  83,  37,  37, 114, 114,  29,  59,  83,\n",
      "          83,  37]], device='cuda:0')\n",
      "torch.Size([1, 30])\n"
     ]
    }
   ],
   "source": [
    "import torch\n",
    "\n",
    "loaded_data = torch.load('/workspace/data/tensor/chord_tensor.pt')\n",
    "\n",
    "test = loaded_data[3].to(device).long()\n",
    "print(test[:30])\n",
    "print(test[:20])\n",
    "\n",
    "out = model.infer(test[:20], length=10)\n",
    "print(out)\n",
    "print(out.shape)\n"
   ]
  },
  {
   "cell_type": "code",
   "execution_count": null,
   "metadata": {},
   "outputs": [],
   "source": []
  }
 ],
 "metadata": {
  "kernelspec": {
   "display_name": "sym",
   "language": "python",
   "name": "python3"
  },
  "language_info": {
   "codemirror_mode": {
    "name": "ipython",
    "version": 3
   },
   "file_extension": ".py",
   "mimetype": "text/x-python",
   "name": "python",
   "nbconvert_exporter": "python",
   "pygments_lexer": "ipython3",
   "version": "3.12.3"
  }
 },
 "nbformat": 4,
 "nbformat_minor": 2
}
